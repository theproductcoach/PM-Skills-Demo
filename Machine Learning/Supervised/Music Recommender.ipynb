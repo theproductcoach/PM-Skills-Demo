{
 "cells": [
  {
   "cell_type": "code",
   "execution_count": 51,
   "id": "3bcd0eea",
   "metadata": {},
   "outputs": [
    {
     "data": {
      "text/plain": [
       "0.75"
      ]
     },
     "execution_count": 51,
     "metadata": {},
     "output_type": "execute_result"
    }
   ],
   "source": [
    "import pandas as pd # Shorten name\n",
    "from sklearn.tree import DecisionTreeClassifier # Import our model\n",
    "from sklearn.model_selection import train_test_split # Import our data splitter\n",
    "from sklearn.metrics import accuracy_score # Import the accuracy scorer \n",
    "\n",
    "music_data = pd.read_csv('music.csv') # Grab the data\n",
    "\n",
    "# Now we need to split the data into input and output data sets (Input = age and gender, output = genre)\n",
    "\n",
    "X = music_data.drop(columns=['genre']) # Input set\n",
    "y = music_data['genre'] # Output set\n",
    "\n",
    "X_train, X_test, y_train, y_test = train_test_split(X, y, test_size=0.2) # Allocating 20% of our data for testing via split\n",
    "\n",
    "model = DecisionTreeClassifier() # Let's use a decision tree model for our recommender\n",
    "\n",
    "model.fit(X_train.values, y_train) # Training the model\n",
    " \n",
    "predictions = model.predict(X_test.values) # Passing the test values to the prediction model\n",
    " \n",
    "predictions # Predictions are looking good! But how accurate are they?\n",
    "\n",
    "score = accuracy_score(y_test, predictions) # Score the accuracy of the predictions against the test groups\n",
    "\n",
    "score"
   ]
  },
  {
   "cell_type": "code",
   "execution_count": 53,
   "id": "a916bf05",
   "metadata": {},
   "outputs": [
    {
     "data": {
      "text/plain": [
       "['Music-Recommender.joblib']"
      ]
     },
     "execution_count": 53,
     "metadata": {},
     "output_type": "execute_result"
    }
   ],
   "source": [
    "# Exporting the model\n",
    "\n",
    "import pandas as pd\n",
    "from sklearn.tree import DecisionTreeClassifier # Import our model\n",
    "import joblib # Allows us to save and load models\n",
    "\n",
    "\n",
    "music_data = pd.read_csv('music.csv')# Grab the data\n",
    "\n",
    "# Now we need to split the data into input and output data sets (Input = age and gender, output = genre)\n",
    "\n",
    "X = music_data.drop(columns=['genre']) #input set\n",
    "y = music_data['genre'] #output set\n",
    "\n",
    "model = DecisionTreeClassifier() # Let's use a decision tree model for our recommender\n",
    "\n",
    "model.fit(X_train.values, y_train) #Training the model\n",
    "\n",
    "joblib.dump(model, 'Music-Recommender.joblib') # Save model for use later\n",
    "\n",
    "# predictions = model.predict([[21, 1]]) # Passing a value to the prediction model"
   ]
  },
  {
   "cell_type": "code",
   "execution_count": 58,
   "id": "7bce4e59",
   "metadata": {},
   "outputs": [
    {
     "data": {
      "text/plain": [
       "array(['HipHop'], dtype=object)"
      ]
     },
     "execution_count": 58,
     "metadata": {},
     "output_type": "execute_result"
    }
   ],
   "source": [
    "# Importing the model\n",
    "\n",
    "import pandas as pd\n",
    "from sklearn.tree import DecisionTreeClassifier # Import our model\n",
    "import joblib # Allows us to save and load models\n",
    "\n",
    "model = joblib.load('Music-Recommender.joblib') # Load the model\n",
    "\n",
    "predictions = model.predict([[21, 1]]) # Passing a value to the prediction model\n",
    "predictions # Show the prediction"
   ]
  },
  {
   "cell_type": "code",
   "execution_count": 62,
   "id": "c7f06d4a",
   "metadata": {},
   "outputs": [],
   "source": [
    "# Save the decision tree graph\n",
    "\n",
    "import pandas as pd\n",
    "from sklearn.tree import DecisionTreeClassifier # Import our model\n",
    "from sklearn import tree # Allows us to export decision tree\n",
    "\n",
    "\n",
    "music_data = pd.read_csv('music.csv') # Grab the data\n",
    "X = music_data.drop(columns=['genre']) #input set\n",
    "y = music_data['genre'] #output set\n",
    "\n",
    "model = DecisionTreeClassifier() # Let's use a decision tree model for our recommender\n",
    "\n",
    "model.fit(X, y) #Training the model\n",
    "\n",
    "# Export the decision tree grpah\n",
    "tree.export_graphviz(model, out_file='music.recommender.dot', \n",
    "                     feature_names=['age', 'gender'], \n",
    "                     class_names=sorted(y.unique()), \n",
    "                     label='all', \n",
    "                     rounded=True, \n",
    "                     filled=True)"
   ]
  },
  {
   "cell_type": "code",
   "execution_count": null,
   "id": "1e55cb76",
   "metadata": {},
   "outputs": [],
   "source": []
  }
 ],
 "metadata": {
  "kernelspec": {
   "display_name": "Python 3 (ipykernel)",
   "language": "python",
   "name": "python3"
  },
  "language_info": {
   "codemirror_mode": {
    "name": "ipython",
    "version": 3
   },
   "file_extension": ".py",
   "mimetype": "text/x-python",
   "name": "python",
   "nbconvert_exporter": "python",
   "pygments_lexer": "ipython3",
   "version": "3.11.5"
  }
 },
 "nbformat": 4,
 "nbformat_minor": 5
}
